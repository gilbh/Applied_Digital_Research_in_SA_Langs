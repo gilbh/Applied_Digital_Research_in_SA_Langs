{
  "nbformat": 4,
  "nbformat_minor": 0,
  "metadata": {
    "colab": {
      "provenance": [],
      "include_colab_link": true
    },
    "kernelspec": {
      "name": "python3",
      "display_name": "Python 3"
    },
    "language_info": {
      "name": "python"
    }
  },
  "cells": [
    {
      "cell_type": "markdown",
      "metadata": {
        "id": "view-in-github",
        "colab_type": "text"
      },
      "source": [
        "<a href=\"https://colab.research.google.com/github/gilbh/Applied_Digital_Research_in_SA_Langs/blob/main/2024_Summer_TAU/Materials_and_Homework/Lesson_02/Sanskrit_OCR.ipynb\" target=\"_parent\"><img src=\"https://colab.research.google.com/assets/colab-badge.svg\" alt=\"Open In Colab\"/></a>"
      ]
    },
    {
      "cell_type": "markdown",
      "source": [
        "Welcome!\n",
        "\n",
        "In this notebook, we will practice:  \n",
        "\n",
        "1) Performing OCR with Tesseract using Python code. The OCR is performed on an image file (showing a Sanskrit text) that you will upload.  \n",
        "\n",
        "2) Calculating the character error rates (cer) between the above Tesseract-produced text and three other pre-prepared digitizations of the same Sanskrit text (which you will upload as .txt files): manually-typed, Transkribus, and Google Vision.\n"
      ],
      "metadata": {
        "id": "71HFdBCDeeuH"
      }
    },
    {
      "cell_type": "markdown",
      "source": [
        "First, we upload the required files: the scan image and the manually-typed text file. The Transkribus and Google Vision texts files are optional.\n",
        "\n",
        "Click on the \"Files\" icon on the left bar, then click the \"Upload\" icon and selected the files."
      ],
      "metadata": {
        "id": "Nje3EL9KmrWn"
      }
    },
    {
      "cell_type": "markdown",
      "source": [
        "Next, we tell the notepad the filenames:"
      ],
      "metadata": {
        "id": "WoV2yrdvSXI6"
      }
    },
    {
      "cell_type": "code",
      "source": [
        "# Here we provide information about the files we will use in this notebook:\n",
        "\n",
        "# Enter the filename of the Sanskrit image you uploaded (\"Files\" icon on the left bar)\n",
        "# It should end with '.png' '.jpg' or 'jpeg':\n",
        "img_filename = 'PASTE HERE THE Copy path FROM THE THREE DOTS MENU OF THE IMAGE FILE'\n",
        "\n",
        "# Likewise, enter below the three filenames of three text files you uploaded: manually-typed, Transkribus, and Google Vision\n",
        "# (for any text file you did not upload, leave the string empty: ''):\n",
        "manual_filename = 'PASTE HERE THE Copy path FROM THE THREE DOTS MENU OF THE MANUALLY-TYPED TEXT FILE'\n",
        "tkbs_filename = ''\n",
        "google_vision_filename = ''"
      ],
      "metadata": {
        "id": "6MIqdrQFSmOQ"
      },
      "execution_count": null,
      "outputs": []
    },
    {
      "cell_type": "markdown",
      "source": [
        "Now we run all the installations required for processing OCR and related tasks:"
      ],
      "metadata": {
        "id": "CH2_0JJ6ltJm"
      }
    },
    {
      "cell_type": "code",
      "execution_count": null,
      "metadata": {
        "collapsed": true,
        "id": "lP4LA7Y6AzBf"
      },
      "outputs": [],
      "source": [
        "# Install pytesseract and training data in your Google Colab environment\n",
        "# The exclamation runs the command as a terminal command\n",
        "!pip install tesseract\n",
        "!pip install pytesseract\n",
        "!apt-get install libtesseract-dev\n",
        "!apt-get install tesseract-ocr\n",
        "# Install jiwer to check WER and CER\n",
        "!pip install jiwer\n",
        "from jiwer import wer, cer, mer, wil\n",
        "# Install Tesseract trained data for Sanskrit OCR\n",
        "!wget https://github.com/tesseract-ocr/tessdata/raw/main/san.traineddata\n",
        "!mv san.traineddata /usr/share/tesseract-ocr/4.00/tessdata/san.traineddata\n",
        "# Install Sanscript module for converting scripts (from Devanagari to IAST)\n",
        "!pip install indic_transliteration\n",
        "from indic_transliteration import sanscript\n",
        "from indic_transliteration.sanscript import transliterate"
      ]
    },
    {
      "cell_type": "markdown",
      "source": [
        "Load and display the image file:"
      ],
      "metadata": {
        "id": "-Pu20xn7m7bB"
      }
    },
    {
      "cell_type": "code",
      "source": [
        "# Import the Image module from the Pillow Library, which will help us access the image.\n",
        "from PIL import Image\n",
        "from IPython.display import display\n",
        "# Open an image file\n",
        "img = Image.open(img_filename)\n",
        "\n",
        "# Display the image\n",
        "display(img)"
      ],
      "metadata": {
        "id": "B4s72v9IDo8S"
      },
      "execution_count": null,
      "outputs": []
    },
    {
      "cell_type": "markdown",
      "source": [
        "Perform OCR on this image and display the results:"
      ],
      "metadata": {
        "id": "mBmyzQ8-nBdm"
      }
    },
    {
      "cell_type": "code",
      "source": [
        "from PIL import Image\n",
        "\n",
        "# Import the pytesseract library, which will run the OCR process.\n",
        "import pytesseract\n",
        "# Open a specific image file, convert the text in the image to computer-readable text (OCR),\n",
        "# and then print the results for us to see here.\n",
        "pytesseract.pytesseract.tesseract_cmd = '/usr/bin/tesseract'\n",
        "ocr_text_devanagari = pytesseract.image_to_string(Image.open(img_filename), lang=\"san\")\n",
        "print(ocr_text_devanagari)"
      ],
      "metadata": {
        "id": "KZUmRBzDBd8K"
      },
      "execution_count": null,
      "outputs": []
    },
    {
      "cell_type": "markdown",
      "source": [
        "Convert the script from Devanagari to IAST transliteration:"
      ],
      "metadata": {
        "id": "O5um7_CZnlmQ"
      }
    },
    {
      "cell_type": "code",
      "source": [
        "ocr_text = transliterate(ocr_text_devanagari, sanscript.DEVANAGARI, sanscript.KOLKATA)\n",
        "print(ocr_text)\n"
      ],
      "metadata": {
        "id": "n7_s2Soznvpy"
      },
      "execution_count": null,
      "outputs": []
    },
    {
      "cell_type": "markdown",
      "source": [
        "Load the three pre-prepared text files:"
      ],
      "metadata": {
        "id": "zzwnDMWeomQS"
      }
    },
    {
      "cell_type": "code",
      "source": [
        "# Read the text from a .txt file and return it as a variable:\n",
        "def load_text_file(filename):\n",
        "  if filename != '':\n",
        "    with open(filename, \"r\", encoding=\"utf-8\") as file:\n",
        "      text = file.read()\n",
        "    print(filename + \" loaded successfully\")\n",
        "  else:\n",
        "    text = \"\"\n",
        "  return text\n",
        "\n",
        "\n",
        "manual_text = load_text_file(manual_filename)\n",
        "tkbs_text = load_text_file(tkbs_filename)\n",
        "google_vision_text = load_text_file(google_vision_filename)\n"
      ],
      "metadata": {
        "collapsed": true,
        "id": "-Bi24laDE34Q"
      },
      "execution_count": null,
      "outputs": []
    },
    {
      "cell_type": "markdown",
      "source": [
        "Now, having the four different text versions in hand (Tesseract, manually-typed, Transkribus, and Google Vision) we can run CER comparisons between the manually-typed and the other three files."
      ],
      "metadata": {
        "id": "dMXGkiesBQXL"
      }
    },
    {
      "cell_type": "code",
      "source": [
        "def calculate_cer(compared_text, caption):\n",
        "  if compared_text != '':\n",
        "    character_error_rate = cer(manual_text, compared_text)\n",
        "    print(\"cer for \" + caption + \": \" + f\"{character_error_rate * 100:.2f}%\")\n",
        "\n",
        "# not used: wer (word_error_rate), mer (match_error_rate), wil (word_info_rate)\n",
        "\n",
        "calculate_cer(ocr_text, 'Tesseract')\n",
        "calculate_cer(tkbs_text, 'Transkribus')\n",
        "calculate_cer(google_vision_text, 'Google Vision')\n",
        "\n"
      ],
      "metadata": {
        "id": "vMlThOQgGmr3"
      },
      "execution_count": null,
      "outputs": []
    }
  ]
}