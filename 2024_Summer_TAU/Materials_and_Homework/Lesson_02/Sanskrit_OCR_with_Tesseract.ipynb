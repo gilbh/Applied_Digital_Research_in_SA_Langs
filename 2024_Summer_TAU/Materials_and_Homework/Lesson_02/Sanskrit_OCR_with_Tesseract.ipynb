{
  "nbformat": 4,
  "nbformat_minor": 0,
  "metadata": {
    "colab": {
      "provenance": [],
      "include_colab_link": true
    },
    "kernelspec": {
      "name": "python3",
      "display_name": "Python 3"
    },
    "language_info": {
      "name": "python"
    }
  },
  "cells": [
    {
      "cell_type": "markdown",
      "metadata": {
        "id": "view-in-github",
        "colab_type": "text"
      },
      "source": [
        "<a href=\"https://colab.research.google.com/github/gilbh/Applied_Digital_Research_in_SA_Langs/blob/main/2024_Summer_TAU/Materials_and_Homework/Lesson_02/Sanskrit_OCR_with_Tesseract.ipynb\" target=\"_parent\"><img src=\"https://colab.research.google.com/assets/colab-badge.svg\" alt=\"Open In Colab\"/></a>"
      ]
    },
    {
      "cell_type": "code",
      "execution_count": null,
      "metadata": {
        "collapsed": true,
        "id": "lP4LA7Y6AzBf"
      },
      "outputs": [],
      "source": [
        "# Install pytesseract and training data in your Google Colab environment\n",
        "# The exclamation runs the command as a terminal command\n",
        "!pip install tesseract\n",
        "!pip install pytesseract\n",
        "!apt-get install libtesseract-dev\n",
        "!apt-get install tesseract-ocr"
      ]
    },
    {
      "cell_type": "code",
      "source": [
        "# Install jiwer to check WER and CER\n",
        "!pip install jiwer\n",
        "from jiwer import wer, cer, mer, wil"
      ],
      "metadata": {
        "collapsed": true,
        "id": "_pKUl4ZWExgp"
      },
      "execution_count": null,
      "outputs": []
    },
    {
      "cell_type": "code",
      "source": [
        "!wget https://github.com/tesseract-ocr/tessdata/raw/main/san.traineddata\n",
        "!mv san.traineddata /usr/share/tesseract-ocr/4.00/tessdata/san.traineddata"
      ],
      "metadata": {
        "collapsed": true,
        "id": "YMhu3djlBWly"
      },
      "execution_count": null,
      "outputs": []
    },
    {
      "cell_type": "code",
      "source": [
        "# Import the Image module from the Pillow Library, which will help us access the image.\n",
        "from PIL import Image\n",
        "from IPython.display import display\n",
        "# Open an image file\n",
        "img_filename = '/content/2024-06-03 10_40_07-Introduction to Sanskrit - Google Books.png'\n",
        "img = Image.open(img_filename)\n",
        "\n",
        "# Display the image\n",
        "display(img)"
      ],
      "metadata": {
        "collapsed": true,
        "id": "B4s72v9IDo8S"
      },
      "execution_count": null,
      "outputs": []
    },
    {
      "cell_type": "code",
      "source": [
        "from PIL import Image\n",
        "\n",
        "# Import the pytesseract library, which will run the OCR process.\n",
        "import pytesseract\n",
        "#pytesseract.pytesseract.tesseract_cmd = r'/usr/local/lib/python3.10/dist-packages/tesseract/'\n",
        "# Open a specific image file, convert the text in the image to computer-readable text (OCR),\n",
        "# and then print the results for us to see here.\n",
        "pytesseract.pytesseract.tesseract_cmd = '/usr/bin/tesseract'\n",
        "ocr_text = pytesseract.image_to_string(Image.open(img_filename), lang=\"san\")\n",
        "print(ocr_text)"
      ],
      "metadata": {
        "id": "KZUmRBzDBd8K"
      },
      "execution_count": null,
      "outputs": []
    },
    {
      "cell_type": "code",
      "source": [
        "# Read the reference (ground truth) text from a .txt file\n",
        "with open(\"/ref_text.txt\", \"r\", encoding=\"utf-8\") as file:\n",
        "    reference_text = file.read()\n",
        "print(reference_text)"
      ],
      "metadata": {
        "collapsed": true,
        "id": "-Bi24laDE34Q"
      },
      "execution_count": null,
      "outputs": []
    },
    {
      "cell_type": "code",
      "source": [
        "# Calculate the Word Error Rate (WER)\n",
        "word_error_rate = wer(reference_text, ocr_text)\n",
        "\n",
        "# Calculate the Character Error Rate (CER)\n",
        "character_error_rate = cer(reference_text, ocr_text)\n",
        "\n",
        "# Calculate the Match Error Rate (MER)\n",
        "match_error_rate = mer(reference_text, ocr_text)\n",
        "\n",
        "# Calculate the Word Information Lost (WIL)\n",
        "word_info_lost = wil(reference_text, ocr_text)"
      ],
      "metadata": {
        "id": "vMlThOQgGmr3"
      },
      "execution_count": null,
      "outputs": []
    },
    {
      "cell_type": "code",
      "source": [
        "print(\"\\nAccuracy Metrics:\")\n",
        "print(f\"Word Error Rate (WER): {word_error_rate}\")\n",
        "print(f\"Character Error Rate (CER): {character_error_rate}\")\n",
        "print(f\"Match Error Rate (MER): {match_error_rate}\")\n",
        "print(f\"Word Information Lost (WIL): {word_info_lost}\")"
      ],
      "metadata": {
        "collapsed": true,
        "id": "ZYTrnShYG8Xy"
      },
      "execution_count": null,
      "outputs": []
    }
  ]
}